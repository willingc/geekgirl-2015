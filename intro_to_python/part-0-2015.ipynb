{
 "metadata": {
  "kernelspec": {
   "codemirror_mode": {
    "name": "ipython",
    "version": 2
   },
   "display_name": "IPython (Python 2)",
   "language": "python",
   "name": "python2"
  },
  "name": "",
  "signature": "sha256:bcf9b99fa7aeba5ee12ed312039e072c00cf46f8cd218cd9ce2559061b52e6d6"
 },
 "nbformat": 3,
 "nbformat_minor": 0,
 "worksheets": [
  {
   "cells": [
    {
     "cell_type": "heading",
     "level": 1,
     "metadata": {},
     "source": [
      "Setup"
     ]
    },
    {
     "cell_type": "markdown",
     "metadata": {},
     "source": [
      "**Please complete the instructions on this page before you arrive at the Intro to Python workshop.**\n",
      "\n",
      "Stuck or need help? [Ask for help by describing your error here](https://github.com/pythonsd/intro-to-python/issues/new), in as much detail as possible. Or ask for help through [SD Python](http://www.meetup.com/pythonsd/), [SD Pyladies](http://www.meetup.com/sd-pyladies/), or [IE Pyladies](http://www.meetup.com/iepyladies/)."
     ]
    },
    {
     "cell_type": "heading",
     "level": 2,
     "metadata": {},
     "source": [
      "Windows"
     ]
    },
    {
     "cell_type": "markdown",
     "metadata": {},
     "source": [
      "Please go to this website page https://www.python.org/downloads/ to download the Python installer:\n",
      "- click on the `Download Python 3.4.1` button (a yellow button on left side of screen),\n",
      "- this will start the download of the appropriate Windows MSI installer \n",
      "- accept the default download filename: `python-3.4.1.msi`(win32bits) or `python-3.4.1.amd.msi`(win64bits) \n",
      "- save the MSI Installer file to your pc,\n",
      "- double click the downloaded file to open it and run the installer \n"
       ]
    },
    {
     "cell_type": "heading",
     "level": 2,
     "metadata": {},
     "source": [
      "Linux"
     ]
    },
    {
     "cell_type": "markdown",
     "metadata": {},
     "source": [
      "It is very likely that you already have Python installed out of the box. To check if you have it installed (and which version it is), open a console and type the following command:\n",
      "\n",
      "```\n",
      "$ python3 --version\n",
      "Python 3.4.1\n",
      "```\n",
      "\n",
      "If you don't have Python installed or if you have a version older then 3.4 , you can install version 3.4 as follows:"
     ]
    },
    {
     "cell_type": "heading",
     "level": 4,
     "metadata": {},
     "source": [
      "Ubuntu"
     ]
    },
    {
     "cell_type": "markdown",
     "metadata": {},
     "source": [
      "Type this command into your console:\n",
      "\n",
      "```\n",
      "sudo apt-get install python3.4\n",
      "```"
     ]
    },
    {
     "cell_type": "heading",
     "level": 4,
     "metadata": {},
     "source": [
      "Fedora"
     ]
    },
    {
     "cell_type": "markdown",
     "metadata": {},
     "source": [
      "Use this command in your console:\n",
      "\n",
      "```\n",
      "sudo yum install python3.4\n",
      "```"
     ]
    },
    {
     "cell_type": "heading",
     "level": 2,
     "metadata": {},
     "source": [
      "Mac OS X"
     ]
    },
    {
     "cell_type": "markdown",
     "metadata": {},
     "source": [
      "Please go to this website page https://www.python.org/downloads/ to download the Python installer:\n",
      "- click on the `Download Python 3.4.1` button (a yellow button on left side of screen),\n",
      "- download the Mac OS X 64-bit/32-bit installer dmg file `python-3.4.1-macosx10.6.dmg` and save it to your mac,\n",
      "- double click the downloaded file to open it and run the installer (Tip: If you forget or can't find where you saved the downloaded file, you may use the magnifying glass in the upper right corner of the screen to search for the file by name.)\n",
      "\n",
      "\n",
      "** Verify the installation **\n",
      "\n",
      "Verify the installation was successful by opening the Terminal application and running the python3 command by typing <span style=\"color:blue\">python3 --version</span> after the `$` command prompt:\n",
      "```\n",
      "$ python3 --version\n",
      "Python 3.4.1\n",
      "```"
     ]
    },
    {
     "cell_type": "markdown",
     "metadata": {},
     "source": [
      "<span style=\"color:red\">**Are you using Mac OS X 10.5 (a possibility if you have a Mac laptop built before mid-2010)?**</span>  \n",
      "If you are using Mac OS X 10.5, your installation process will differ slightly. (Tip: You may check your Mac OS X version by selecting the Apple icon in the top left corner of the screen and choosing \"About This Mac\".)</span>\n",
      "\n",
      "For Mac OS X 10.5 users only:\n",
      "- click on this link: https://www.python.org/downloads/release/python-341/\n",
      "- scroll down to \"Files\" heading and double click on \"Mac OS X 32-bit i386/PPC installer\"\n",
      "- save the \"Mac OS X 32-bit i386/PPC installer\" dmg file `python-3.4.1-macosx10.5.dmg` to your mac,\n",
      "- double click the downloaded file to open it and run the installer (Tip: If you forget or can't find where you saved the downloaded file, you may use the magnifying glass in the upper right corner of the screen to search for the file by name.),\n",
      "- follow the steps above to verify your installation"
     ]
    },
    {
     "cell_type": "markdown",
     "metadata": {},
     "source": [
      "*Attribution: These instructions are partially based on tutorials by [Geek Girls Carrots](http://django.carrots.pl/) and [DjangoGirls](http://tutorial.djangogirls.org/python_installation/README.html).*"
     ]
    },
    {
     "cell_type": "code",
     "collapsed": false,
     "input": [],
     "language": "python",
     "metadata": {},
     "outputs": []
    }
   ],
   "metadata": {}
  }
 ]
}

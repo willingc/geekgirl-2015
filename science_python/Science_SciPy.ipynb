{
 "cells": [
  {
   "cell_type": "markdown",
   "metadata": {},
   "source": [
    "#SciPy"
   ]
  },
  {
   "cell_type": "code",
   "execution_count": 1,
   "metadata": {
    "collapsed": false
   },
   "outputs": [],
   "source": [
    "import scipy\n",
    "import numpy as np\n",
    "import matplotlib.pylab as pl\n",
    "\n",
    "t = np.linspace(0,3*np.pi,500) \n",
    "pl.plot(t,np.exp(-t)*np.cos(2*np.pi*t)) \n",
    "for i in range(1,10,2):\n",
    "    q = i/4.0 \n",
    "    pl.plot(q,np.exp(-q)*np.cos(2*np.pi*q),'ro')"
   ]
  },
  {
   "cell_type": "code",
   "execution_count": null,
   "metadata": {
    "collapsed": true
   },
   "outputs": [],
   "source": [
    "\"\"\"\n",
    "Visualization of named colors.\n",
    "\n",
    "Simple plot example with the named colors and its visual representation.\n",
    "\"\"\"\n",
    "\n",
    "from __future__ import (absolute_import, division, print_function,\n",
    "                        unicode_literals)\n",
    "\n",
    "import six\n",
    "\n",
    "import numpy as np\n",
    "import matplotlib.pyplot as plt\n",
    "from matplotlib import colors\n",
    "\n",
    "\n",
    "colors_ = list(six.iteritems(colors.cnames))\n",
    "\n",
    "# Add the single letter colors.\n",
    "for name, rgb in six.iteritems(colors.ColorConverter.colors):\n",
    "    hex_ = colors.rgb2hex(rgb)\n",
    "    colors_.append((name, hex_))\n",
    "\n",
    "# Transform to hex color values.\n",
    "hex_ = [color[1] for color in colors_]\n",
    "# Get the rgb equivalent.\n",
    "rgb = [colors.hex2color(color) for color in hex_]\n",
    "# Get the hsv equivalent.\n",
    "hsv = [colors.rgb_to_hsv(color) for color in rgb]\n",
    "\n",
    "# Split the hsv values to sort.\n",
    "hue = [color[0] for color in hsv]\n",
    "sat = [color[1] for color in hsv]\n",
    "val = [color[2] for color in hsv]\n",
    "\n",
    "# Sort by hue, saturation and value.\n",
    "ind = np.lexsort((val, sat, hue))\n",
    "sorted_colors = [colors_[i] for i in ind]\n",
    "\n",
    "n = len(sorted_colors)\n",
    "ncols = 4\n",
    "nrows = int(np.ceil(1. * n / ncols))\n",
    "\n",
    "fig = plt.figure()\n",
    "ax = fig.add_subplot(111)\n",
    "\n",
    "X, Y = fig.get_dpi() * fig.get_size_inches()\n",
    "\n",
    "# row height\n",
    "h = Y / (nrows + 1)\n",
    "# col width\n",
    "w = X / ncols\n",
    "\n",
    "for i, (name, color) in enumerate(sorted_colors):\n",
    "    col = i % ncols\n",
    "    row = int(i / ncols)\n",
    "    y = Y - (row * h) - h\n",
    "\n",
    "    xi_line = w * (col + 0.05)\n",
    "    xf_line = w * (col + 0.25)\n",
    "    xi_text = w * (col + 0.3)\n",
    "\n",
    "    ax.text(xi_text,  y, name, fontsize=(h * 0.8),\n",
    "            horizontalalignment='left',\n",
    "            verticalalignment='center')\n",
    "\n",
    "#     Add extra black line a little bit thicker to make\n",
    "#     clear colors more visible.\n",
    "    ax.hlines(y, xi_line, xf_line, color='black', linewidth=(h * 0.7))\n",
    "    ax.hlines(y + h * 0.1, xi_line, xf_line, color=color, linewidth=(h * 0.6))\n",
    "\n",
    "ax.set_xlim(0, X)\n",
    "ax.set_ylim(0, Y)\n",
    "ax.set_axis_off()\n",
    "\n",
    "fig.subplots_adjust(left=0, right=1,\n",
    "                    top=1, bottom=0,\n",
    "                    hspace=0, wspace=0)\n",
    "plt.show()"
   ]
  },
  {
   "cell_type": "code",
   "execution_count": null,
   "metadata": {
    "collapsed": true
   },
   "outputs": [],
   "source": []
  }
 ],
 "metadata": {
  "kernelspec": {
   "display_name": "Python 3",
   "language": "python",
   "name": "python3"
  },
  "language_info": {
   "codemirror_mode": {
    "name": "ipython",
    "version": 3
   },
   "file_extension": ".py",
   "mimetype": "text/x-python",
   "name": "python",
   "nbconvert_exporter": "python",
   "pygments_lexer": "ipython3",
   "version": "3.4.3"
  }
 },
 "nbformat": 4,
 "nbformat_minor": 0
}
